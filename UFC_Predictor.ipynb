{
 "cells": [
  {
   "cell_type": "markdown",
   "metadata": {},
   "source": [
    "# UFC Fight Prediction Model\n",
    "#### William B. Chastain\n",
    "---\n",
    "This is a neural network model that predicts the winner of a UFC fight. [This](https://www.kaggle.com/datasets/mdabbert/ultimate-ufc-dataset) is that dataset from Kaggle that I used. *Be warned*, however, that this is my first ever neural network project and my second ever ML project."
   ]
  },
  {
   "cell_type": "code",
   "execution_count": 76,
   "metadata": {},
   "outputs": [],
   "source": [
    "import pandas as pd\n",
    "import numpy as np\n",
    "\n",
    "from sklearn.neural_network import MLPClassifier\n",
    "from sklearn.model_selection import train_test_split\n",
    "from sklearn.metrics import accuracy_score\n",
    "from sklearn.preprocessing import OneHotEncoder\n",
    "from sklearn.preprocessing import LabelEncoder\n",
    "from sklearn.preprocessing import StandardScaler\n",
    "\n",
    "import matplotlib.pyplot as plt\n",
    "\n",
    "import joblib  # for saving the model"
   ]
  },
  {
   "cell_type": "markdown",
   "metadata": {},
   "source": [
    "Let's load our dataset using `pandas`."
   ]
  },
  {
   "cell_type": "code",
   "execution_count": 77,
   "metadata": {},
   "outputs": [
    {
     "name": "stdout",
     "output_type": "stream",
     "text": [
      "          RedFighter        BlueFighter  RedOdds  BlueOdds  RedExpectedValue  \\\n",
      "0  Alexandre Pantoja        Kai Asakura   -250.0     215.0           40.0000   \n",
      "1  Shavkat Rakhmonov  Ian Machado Garry   -210.0     295.0           47.6190   \n",
      "2         Ciryl Gane   Alexander Volkov   -380.0     300.0           26.3158   \n",
      "3     Bryce Mitchell        Kron Gracie   -950.0     625.0           10.5263   \n",
      "4      Nate Landwehr         Dooho Choi   -130.0     110.0           76.9231   \n",
      "\n",
      "   BlueExpectedValue        Date                Location Country Winner  ...  \\\n",
      "0              215.0  2024-12-07  Las Vegas, Nevada, USA     USA    Red  ...   \n",
      "1              295.0  2024-12-07  Las Vegas, Nevada, USA     USA    Red  ...   \n",
      "2              300.0  2024-12-07  Las Vegas, Nevada, USA     USA    Red  ...   \n",
      "3              625.0  2024-12-07  Las Vegas, Nevada, USA     USA    Red  ...   \n",
      "4              110.0  2024-12-07  Las Vegas, Nevada, USA     USA   Blue  ...   \n",
      "\n",
      "      FinishDetails FinishRound FinishRoundTime  TotalFightTimeSecs  \\\n",
      "0  Rear Naked Choke         2.0            2:05               425.0   \n",
      "1               NaN         5.0            5:00              1500.0   \n",
      "2               NaN         3.0            5:00               900.0   \n",
      "3            Elbows         3.0            0:39               639.0   \n",
      "4            Elbows         3.0            3:21               801.0   \n",
      "\n",
      "   RedDecOdds  BlueDecOdds  RSubOdds  BSubOdds  RKOOdds  BKOOdds  \n",
      "0       300.0        800.0     150.0    2500.0    400.0    350.0  \n",
      "1       250.0        650.0     180.0    3000.0    240.0    700.0  \n",
      "2      -160.0        450.0    1100.0    3000.0    350.0   1100.0  \n",
      "3      -200.0       1100.0     380.0    1400.0    500.0   4000.0  \n",
      "4       275.0        550.0     500.0     700.0    300.0    250.0  \n",
      "\n",
      "[5 rows x 118 columns]\n",
      "Total length: 6528\n"
     ]
    }
   ],
   "source": [
    "df = pd.read_csv(\"data/ufc-master.csv\")\n",
    "\n",
    "print(df.head())\n",
    "print(\"Total length:\", len(df))"
   ]
  },
  {
   "cell_type": "markdown",
   "metadata": {},
   "source": [
    "Let's also handle missing values before we start splitting up our data."
   ]
  },
  {
   "cell_type": "code",
   "execution_count": 78,
   "metadata": {},
   "outputs": [
    {
     "data": {
      "text/plain": [
       "EmptyArena               1486\n",
       "BMatchWCRank             5328\n",
       "RMatchWCRank             4749\n",
       "RWFlyweightRank          6432\n",
       "RWFeatherweightRank      6519\n",
       "RWStrawweightRank        6382\n",
       "RWBantamweightRank       6374\n",
       "RHeavyweightRank         6342\n",
       "RLightHeavyweightRank    6344\n",
       "RMiddleweightRank        6346\n",
       "RWelterweightRank        6337\n",
       "RLightweightRank         6344\n",
       "RFeatherweightRank       6351\n",
       "RBantamweightRank        6347\n",
       "RFlyweightRank           6340\n",
       "RPFPRank                 6275\n",
       "BWFlyweightRank          6455\n",
       "BWFeatherweightRank      6527\n",
       "BWStrawweightRank        6428\n",
       "BWBantamweightRank       6421\n",
       "BHeavyweightRank         6380\n",
       "BLightHeavyweightRank    6408\n",
       "BMiddleweightRank        6391\n",
       "BWelterweightRank        6409\n",
       "BLightweightRank         6408\n",
       "BFeatherweightRank       6404\n",
       "BBantamweightRank        6409\n",
       "BFlyweightRank           6398\n",
       "BPFPRank                 6461\n",
       "FinishDetails            3636\n",
       "RedDecOdds               1087\n",
       "BlueDecOdds              1116\n",
       "RSubOdds                 1336\n",
       "BSubOdds                 1359\n",
       "RKOOdds                  1334\n",
       "BKOOdds                  1360\n",
       "dtype: int64"
      ]
     },
     "execution_count": 78,
     "metadata": {},
     "output_type": "execute_result"
    }
   ],
   "source": [
    "# Check for and print missing values\n",
    "missing_values = df.isnull().sum()\n",
    "missing_values[missing_values > 1000]\n"
   ]
  },
  {
   "cell_type": "markdown",
   "metadata": {},
   "source": [
    "Wow, that's quite a lot of missing values... instead of doing anything manually, let's just remove any columns where more than 10% of the values are missing."
   ]
  },
  {
   "cell_type": "code",
   "execution_count": 79,
   "metadata": {},
   "outputs": [
    {
     "name": "stdout",
     "output_type": "stream",
     "text": [
      "          RedFighter        BlueFighter  RedOdds  BlueOdds  RedExpectedValue  \\\n",
      "0  Alexandre Pantoja        Kai Asakura   -250.0     215.0           40.0000   \n",
      "1  Shavkat Rakhmonov  Ian Machado Garry   -210.0     295.0           47.6190   \n",
      "2         Ciryl Gane   Alexander Volkov   -380.0     300.0           26.3158   \n",
      "3     Bryce Mitchell        Kron Gracie   -950.0     625.0           10.5263   \n",
      "4      Nate Landwehr         Dooho Choi   -130.0     110.0           76.9231   \n",
      "\n",
      "   BlueExpectedValue        Date                Location Country Winner  ...  \\\n",
      "0              215.0  2024-12-07  Las Vegas, Nevada, USA     USA    Red  ...   \n",
      "1              295.0  2024-12-07  Las Vegas, Nevada, USA     USA    Red  ...   \n",
      "2              300.0  2024-12-07  Las Vegas, Nevada, USA     USA    Red  ...   \n",
      "3              625.0  2024-12-07  Las Vegas, Nevada, USA     USA    Red  ...   \n",
      "4              110.0  2024-12-07  Las Vegas, Nevada, USA     USA   Blue  ...   \n",
      "\n",
      "   ReachDif AgeDif SigStrDif  AvgSubAttDif  AvgTDDif  BetterRank  Finish  \\\n",
      "0      5.08     -3     -4.41          -0.8     -2.61         Red     SUB   \n",
      "1     -7.62     -3      1.38          -1.5     -0.72         Red   U-DEC   \n",
      "2     -2.54      2     -0.36          -0.3     -0.13         Red   S-DEC   \n",
      "3      0.00      6      1.44          -1.1     -2.98         Red  KO/TKO   \n",
      "4     -5.08     -3     -1.84          -0.2     -0.25     neither  KO/TKO   \n",
      "\n",
      "   FinishRound  FinishRoundTime  TotalFightTimeSecs  \n",
      "0          2.0             2:05               425.0  \n",
      "1          5.0             5:00              1500.0  \n",
      "2          3.0             5:00               900.0  \n",
      "3          3.0             0:39               639.0  \n",
      "4          3.0             3:21               801.0  \n",
      "\n",
      "[5 rows x 77 columns]\n"
     ]
    }
   ],
   "source": [
    "# Drop columns where more than 10% of values are missing\n",
    "missing_threshold = 0.1  # 10%\n",
    "columns_to_drop = []\n",
    "\n",
    "for column in df.columns.to_list():\n",
    "    missing_percentage = (df[column].isnull().sum() / len(df[column]))\n",
    "    if missing_percentage > missing_threshold:\n",
    "        columns_to_drop.append(column)\n",
    "        # Uncomment if you want to see the specific columns being dropped\n",
    "        # print(\"Dropping\", column)\n",
    "\n",
    "\n",
    "df_cleaned = df.drop(columns=columns_to_drop)\n",
    "\n",
    "print(df_cleaned.head())"
   ]
  },
  {
   "cell_type": "markdown",
   "metadata": {},
   "source": [
    "Looks like we have plenty of columns left over, but now let's see how many rows are missing data. We'll have to drop these rows, so if the percentage is too high we'll have to lower our `missing_threshold`."
   ]
  },
  {
   "cell_type": "code",
   "execution_count": 80,
   "metadata": {},
   "outputs": [
    {
     "name": "stdout",
     "output_type": "stream",
     "text": [
      "19.43933823529412\n"
     ]
    }
   ],
   "source": [
    "missing_rows_percentage = (df_cleaned.isnull().any(axis=1).sum() / len(df_cleaned)) * 100\n",
    "print(missing_rows_percentage)"
   ]
  },
  {
   "cell_type": "markdown",
   "metadata": {},
   "source": [
    "That seems low enough for me, let's get rid of them."
   ]
  },
  {
   "cell_type": "code",
   "execution_count": 81,
   "metadata": {},
   "outputs": [
    {
     "name": "stdout",
     "output_type": "stream",
     "text": [
      "5259\n"
     ]
    }
   ],
   "source": [
    "df_cleaned = df_cleaned.dropna(axis=0)  # rows not columns\n",
    "print(len(df_cleaned))"
   ]
  },
  {
   "cell_type": "markdown",
   "metadata": {},
   "source": [
    "Now we need to define our features, `X`, and our target, `y`. In this case, our features are any columns of data that may be helpful to our neural network, and our target is the fight results. In order to that, I'm going to remove unhelpful columns from our `X` dataframe (including our target columns)."
   ]
  },
  {
   "cell_type": "code",
   "execution_count": 82,
   "metadata": {},
   "outputs": [],
   "source": [
    "# I removed things that either don't influence fight outcomes\n",
    "# or that can't be known until after a fight is over.\n",
    "X = df_cleaned.drop(columns=['Winner', 'RedFighter', 'BlueFighter', 'RedExpectedValue', 'BlueExpectedValue', 'Date', 'Location', 'Country', 'BlueStance', 'RedStance', 'Finish', 'FinishRound', 'FinishRoundTime', 'TotalFightTimeSecs'])\n",
    "\n",
    "# We only want to predict these\n",
    "y = df_cleaned[['Winner']]\n",
    "\n",
    "# Let's also get our training and test splits\n",
    "X_train, X_test, y_train, y_test = train_test_split(X, y, test_size=0.3)  # for testing, I had random_state=42"
   ]
  },
  {
   "cell_type": "markdown",
   "metadata": {},
   "source": [
    "A lot of these columns have categorical data. For our neural network, we need to use `OneHotEncoder` to make these values numeric (except for `y`, which is only one column and therefore I'm using `LabelEncoder`)."
   ]
  },
  {
   "cell_type": "code",
   "execution_count": 83,
   "metadata": {},
   "outputs": [],
   "source": [
    "# Create and fit our encoders\n",
    "X_encoder = OneHotEncoder(sparse_output=False, handle_unknown='ignore')\n",
    "y_encoder = LabelEncoder()\n",
    "\n",
    "X_encoder.fit(X_train)\n",
    "y_encoder.fit(y_train.values.ravel())\n",
    "\n",
    "# Save these encoders\n",
    "joblib.dump(X_encoder, \"pkl_dumps/X_encoder.pkl\")\n",
    "joblib.dump(y_encoder, \"pkl_dumps/y_encoder.pkl\")\n",
    "\n",
    "# Encode our training and test data\n",
    "X_train_encoded = X_encoder.transform(X_train)\n",
    "X_test_encoded = X_encoder.transform(X_test)\n",
    "\n",
    "y_train_encoded = y_encoder.transform(y_train.values.ravel())\n",
    "y_test_encoded = y_encoder.transform(y_test.values.ravel())"
   ]
  },
  {
   "cell_type": "markdown",
   "metadata": {},
   "source": [
    "Before we start training our model, let's standardize the data."
   ]
  },
  {
   "cell_type": "code",
   "execution_count": 84,
   "metadata": {},
   "outputs": [
    {
     "data": {
      "text/plain": [
       "['pkl_dumps/scaler.pkl']"
      ]
     },
     "execution_count": 84,
     "metadata": {},
     "output_type": "execute_result"
    }
   ],
   "source": [
    "# Initialize scaler\n",
    "scaler = StandardScaler()\n",
    "\n",
    "# Scale our training and test data\n",
    "X_train_scaled = scaler.fit_transform(X_train_encoded)\n",
    "X_test_scaled = scaler.transform(X_test_encoded)\n",
    "\n",
    "# Save our scaler\n",
    "joblib.dump(scaler, \"pkl_dumps/scaler.pkl\")"
   ]
  },
  {
   "cell_type": "markdown",
   "metadata": {},
   "source": [
    "Finally, we can train our model. From my research, 2-3 layers of neurons is good for large datasets such as this. I used the `relu` activation function as this is a fairly deep network. The rest of this came from tweaking and seeing what worked, although I ended up using a fairly large batch size to increase stability."
   ]
  },
  {
   "cell_type": "code",
   "execution_count": 94,
   "metadata": {},
   "outputs": [
    {
     "data": {
      "text/html": [
       "<style>#sk-container-id-9 {\n",
       "  /* Definition of color scheme common for light and dark mode */\n",
       "  --sklearn-color-text: #000;\n",
       "  --sklearn-color-text-muted: #666;\n",
       "  --sklearn-color-line: gray;\n",
       "  /* Definition of color scheme for unfitted estimators */\n",
       "  --sklearn-color-unfitted-level-0: #fff5e6;\n",
       "  --sklearn-color-unfitted-level-1: #f6e4d2;\n",
       "  --sklearn-color-unfitted-level-2: #ffe0b3;\n",
       "  --sklearn-color-unfitted-level-3: chocolate;\n",
       "  /* Definition of color scheme for fitted estimators */\n",
       "  --sklearn-color-fitted-level-0: #f0f8ff;\n",
       "  --sklearn-color-fitted-level-1: #d4ebff;\n",
       "  --sklearn-color-fitted-level-2: #b3dbfd;\n",
       "  --sklearn-color-fitted-level-3: cornflowerblue;\n",
       "\n",
       "  /* Specific color for light theme */\n",
       "  --sklearn-color-text-on-default-background: var(--sg-text-color, var(--theme-code-foreground, var(--jp-content-font-color1, black)));\n",
       "  --sklearn-color-background: var(--sg-background-color, var(--theme-background, var(--jp-layout-color0, white)));\n",
       "  --sklearn-color-border-box: var(--sg-text-color, var(--theme-code-foreground, var(--jp-content-font-color1, black)));\n",
       "  --sklearn-color-icon: #696969;\n",
       "\n",
       "  @media (prefers-color-scheme: dark) {\n",
       "    /* Redefinition of color scheme for dark theme */\n",
       "    --sklearn-color-text-on-default-background: var(--sg-text-color, var(--theme-code-foreground, var(--jp-content-font-color1, white)));\n",
       "    --sklearn-color-background: var(--sg-background-color, var(--theme-background, var(--jp-layout-color0, #111)));\n",
       "    --sklearn-color-border-box: var(--sg-text-color, var(--theme-code-foreground, var(--jp-content-font-color1, white)));\n",
       "    --sklearn-color-icon: #878787;\n",
       "  }\n",
       "}\n",
       "\n",
       "#sk-container-id-9 {\n",
       "  color: var(--sklearn-color-text);\n",
       "}\n",
       "\n",
       "#sk-container-id-9 pre {\n",
       "  padding: 0;\n",
       "}\n",
       "\n",
       "#sk-container-id-9 input.sk-hidden--visually {\n",
       "  border: 0;\n",
       "  clip: rect(1px 1px 1px 1px);\n",
       "  clip: rect(1px, 1px, 1px, 1px);\n",
       "  height: 1px;\n",
       "  margin: -1px;\n",
       "  overflow: hidden;\n",
       "  padding: 0;\n",
       "  position: absolute;\n",
       "  width: 1px;\n",
       "}\n",
       "\n",
       "#sk-container-id-9 div.sk-dashed-wrapped {\n",
       "  border: 1px dashed var(--sklearn-color-line);\n",
       "  margin: 0 0.4em 0.5em 0.4em;\n",
       "  box-sizing: border-box;\n",
       "  padding-bottom: 0.4em;\n",
       "  background-color: var(--sklearn-color-background);\n",
       "}\n",
       "\n",
       "#sk-container-id-9 div.sk-container {\n",
       "  /* jupyter's `normalize.less` sets `[hidden] { display: none; }`\n",
       "     but bootstrap.min.css set `[hidden] { display: none !important; }`\n",
       "     so we also need the `!important` here to be able to override the\n",
       "     default hidden behavior on the sphinx rendered scikit-learn.org.\n",
       "     See: https://github.com/scikit-learn/scikit-learn/issues/21755 */\n",
       "  display: inline-block !important;\n",
       "  position: relative;\n",
       "}\n",
       "\n",
       "#sk-container-id-9 div.sk-text-repr-fallback {\n",
       "  display: none;\n",
       "}\n",
       "\n",
       "div.sk-parallel-item,\n",
       "div.sk-serial,\n",
       "div.sk-item {\n",
       "  /* draw centered vertical line to link estimators */\n",
       "  background-image: linear-gradient(var(--sklearn-color-text-on-default-background), var(--sklearn-color-text-on-default-background));\n",
       "  background-size: 2px 100%;\n",
       "  background-repeat: no-repeat;\n",
       "  background-position: center center;\n",
       "}\n",
       "\n",
       "/* Parallel-specific style estimator block */\n",
       "\n",
       "#sk-container-id-9 div.sk-parallel-item::after {\n",
       "  content: \"\";\n",
       "  width: 100%;\n",
       "  border-bottom: 2px solid var(--sklearn-color-text-on-default-background);\n",
       "  flex-grow: 1;\n",
       "}\n",
       "\n",
       "#sk-container-id-9 div.sk-parallel {\n",
       "  display: flex;\n",
       "  align-items: stretch;\n",
       "  justify-content: center;\n",
       "  background-color: var(--sklearn-color-background);\n",
       "  position: relative;\n",
       "}\n",
       "\n",
       "#sk-container-id-9 div.sk-parallel-item {\n",
       "  display: flex;\n",
       "  flex-direction: column;\n",
       "}\n",
       "\n",
       "#sk-container-id-9 div.sk-parallel-item:first-child::after {\n",
       "  align-self: flex-end;\n",
       "  width: 50%;\n",
       "}\n",
       "\n",
       "#sk-container-id-9 div.sk-parallel-item:last-child::after {\n",
       "  align-self: flex-start;\n",
       "  width: 50%;\n",
       "}\n",
       "\n",
       "#sk-container-id-9 div.sk-parallel-item:only-child::after {\n",
       "  width: 0;\n",
       "}\n",
       "\n",
       "/* Serial-specific style estimator block */\n",
       "\n",
       "#sk-container-id-9 div.sk-serial {\n",
       "  display: flex;\n",
       "  flex-direction: column;\n",
       "  align-items: center;\n",
       "  background-color: var(--sklearn-color-background);\n",
       "  padding-right: 1em;\n",
       "  padding-left: 1em;\n",
       "}\n",
       "\n",
       "\n",
       "/* Toggleable style: style used for estimator/Pipeline/ColumnTransformer box that is\n",
       "clickable and can be expanded/collapsed.\n",
       "- Pipeline and ColumnTransformer use this feature and define the default style\n",
       "- Estimators will overwrite some part of the style using the `sk-estimator` class\n",
       "*/\n",
       "\n",
       "/* Pipeline and ColumnTransformer style (default) */\n",
       "\n",
       "#sk-container-id-9 div.sk-toggleable {\n",
       "  /* Default theme specific background. It is overwritten whether we have a\n",
       "  specific estimator or a Pipeline/ColumnTransformer */\n",
       "  background-color: var(--sklearn-color-background);\n",
       "}\n",
       "\n",
       "/* Toggleable label */\n",
       "#sk-container-id-9 label.sk-toggleable__label {\n",
       "  cursor: pointer;\n",
       "  display: flex;\n",
       "  width: 100%;\n",
       "  margin-bottom: 0;\n",
       "  padding: 0.5em;\n",
       "  box-sizing: border-box;\n",
       "  text-align: center;\n",
       "  align-items: start;\n",
       "  justify-content: space-between;\n",
       "  gap: 0.5em;\n",
       "}\n",
       "\n",
       "#sk-container-id-9 label.sk-toggleable__label .caption {\n",
       "  font-size: 0.6rem;\n",
       "  font-weight: lighter;\n",
       "  color: var(--sklearn-color-text-muted);\n",
       "}\n",
       "\n",
       "#sk-container-id-9 label.sk-toggleable__label-arrow:before {\n",
       "  /* Arrow on the left of the label */\n",
       "  content: \"▸\";\n",
       "  float: left;\n",
       "  margin-right: 0.25em;\n",
       "  color: var(--sklearn-color-icon);\n",
       "}\n",
       "\n",
       "#sk-container-id-9 label.sk-toggleable__label-arrow:hover:before {\n",
       "  color: var(--sklearn-color-text);\n",
       "}\n",
       "\n",
       "/* Toggleable content - dropdown */\n",
       "\n",
       "#sk-container-id-9 div.sk-toggleable__content {\n",
       "  max-height: 0;\n",
       "  max-width: 0;\n",
       "  overflow: hidden;\n",
       "  text-align: left;\n",
       "  /* unfitted */\n",
       "  background-color: var(--sklearn-color-unfitted-level-0);\n",
       "}\n",
       "\n",
       "#sk-container-id-9 div.sk-toggleable__content.fitted {\n",
       "  /* fitted */\n",
       "  background-color: var(--sklearn-color-fitted-level-0);\n",
       "}\n",
       "\n",
       "#sk-container-id-9 div.sk-toggleable__content pre {\n",
       "  margin: 0.2em;\n",
       "  border-radius: 0.25em;\n",
       "  color: var(--sklearn-color-text);\n",
       "  /* unfitted */\n",
       "  background-color: var(--sklearn-color-unfitted-level-0);\n",
       "}\n",
       "\n",
       "#sk-container-id-9 div.sk-toggleable__content.fitted pre {\n",
       "  /* unfitted */\n",
       "  background-color: var(--sklearn-color-fitted-level-0);\n",
       "}\n",
       "\n",
       "#sk-container-id-9 input.sk-toggleable__control:checked~div.sk-toggleable__content {\n",
       "  /* Expand drop-down */\n",
       "  max-height: 200px;\n",
       "  max-width: 100%;\n",
       "  overflow: auto;\n",
       "}\n",
       "\n",
       "#sk-container-id-9 input.sk-toggleable__control:checked~label.sk-toggleable__label-arrow:before {\n",
       "  content: \"▾\";\n",
       "}\n",
       "\n",
       "/* Pipeline/ColumnTransformer-specific style */\n",
       "\n",
       "#sk-container-id-9 div.sk-label input.sk-toggleable__control:checked~label.sk-toggleable__label {\n",
       "  color: var(--sklearn-color-text);\n",
       "  background-color: var(--sklearn-color-unfitted-level-2);\n",
       "}\n",
       "\n",
       "#sk-container-id-9 div.sk-label.fitted input.sk-toggleable__control:checked~label.sk-toggleable__label {\n",
       "  background-color: var(--sklearn-color-fitted-level-2);\n",
       "}\n",
       "\n",
       "/* Estimator-specific style */\n",
       "\n",
       "/* Colorize estimator box */\n",
       "#sk-container-id-9 div.sk-estimator input.sk-toggleable__control:checked~label.sk-toggleable__label {\n",
       "  /* unfitted */\n",
       "  background-color: var(--sklearn-color-unfitted-level-2);\n",
       "}\n",
       "\n",
       "#sk-container-id-9 div.sk-estimator.fitted input.sk-toggleable__control:checked~label.sk-toggleable__label {\n",
       "  /* fitted */\n",
       "  background-color: var(--sklearn-color-fitted-level-2);\n",
       "}\n",
       "\n",
       "#sk-container-id-9 div.sk-label label.sk-toggleable__label,\n",
       "#sk-container-id-9 div.sk-label label {\n",
       "  /* The background is the default theme color */\n",
       "  color: var(--sklearn-color-text-on-default-background);\n",
       "}\n",
       "\n",
       "/* On hover, darken the color of the background */\n",
       "#sk-container-id-9 div.sk-label:hover label.sk-toggleable__label {\n",
       "  color: var(--sklearn-color-text);\n",
       "  background-color: var(--sklearn-color-unfitted-level-2);\n",
       "}\n",
       "\n",
       "/* Label box, darken color on hover, fitted */\n",
       "#sk-container-id-9 div.sk-label.fitted:hover label.sk-toggleable__label.fitted {\n",
       "  color: var(--sklearn-color-text);\n",
       "  background-color: var(--sklearn-color-fitted-level-2);\n",
       "}\n",
       "\n",
       "/* Estimator label */\n",
       "\n",
       "#sk-container-id-9 div.sk-label label {\n",
       "  font-family: monospace;\n",
       "  font-weight: bold;\n",
       "  display: inline-block;\n",
       "  line-height: 1.2em;\n",
       "}\n",
       "\n",
       "#sk-container-id-9 div.sk-label-container {\n",
       "  text-align: center;\n",
       "}\n",
       "\n",
       "/* Estimator-specific */\n",
       "#sk-container-id-9 div.sk-estimator {\n",
       "  font-family: monospace;\n",
       "  border: 1px dotted var(--sklearn-color-border-box);\n",
       "  border-radius: 0.25em;\n",
       "  box-sizing: border-box;\n",
       "  margin-bottom: 0.5em;\n",
       "  /* unfitted */\n",
       "  background-color: var(--sklearn-color-unfitted-level-0);\n",
       "}\n",
       "\n",
       "#sk-container-id-9 div.sk-estimator.fitted {\n",
       "  /* fitted */\n",
       "  background-color: var(--sklearn-color-fitted-level-0);\n",
       "}\n",
       "\n",
       "/* on hover */\n",
       "#sk-container-id-9 div.sk-estimator:hover {\n",
       "  /* unfitted */\n",
       "  background-color: var(--sklearn-color-unfitted-level-2);\n",
       "}\n",
       "\n",
       "#sk-container-id-9 div.sk-estimator.fitted:hover {\n",
       "  /* fitted */\n",
       "  background-color: var(--sklearn-color-fitted-level-2);\n",
       "}\n",
       "\n",
       "/* Specification for estimator info (e.g. \"i\" and \"?\") */\n",
       "\n",
       "/* Common style for \"i\" and \"?\" */\n",
       "\n",
       ".sk-estimator-doc-link,\n",
       "a:link.sk-estimator-doc-link,\n",
       "a:visited.sk-estimator-doc-link {\n",
       "  float: right;\n",
       "  font-size: smaller;\n",
       "  line-height: 1em;\n",
       "  font-family: monospace;\n",
       "  background-color: var(--sklearn-color-background);\n",
       "  border-radius: 1em;\n",
       "  height: 1em;\n",
       "  width: 1em;\n",
       "  text-decoration: none !important;\n",
       "  margin-left: 0.5em;\n",
       "  text-align: center;\n",
       "  /* unfitted */\n",
       "  border: var(--sklearn-color-unfitted-level-1) 1pt solid;\n",
       "  color: var(--sklearn-color-unfitted-level-1);\n",
       "}\n",
       "\n",
       ".sk-estimator-doc-link.fitted,\n",
       "a:link.sk-estimator-doc-link.fitted,\n",
       "a:visited.sk-estimator-doc-link.fitted {\n",
       "  /* fitted */\n",
       "  border: var(--sklearn-color-fitted-level-1) 1pt solid;\n",
       "  color: var(--sklearn-color-fitted-level-1);\n",
       "}\n",
       "\n",
       "/* On hover */\n",
       "div.sk-estimator:hover .sk-estimator-doc-link:hover,\n",
       ".sk-estimator-doc-link:hover,\n",
       "div.sk-label-container:hover .sk-estimator-doc-link:hover,\n",
       ".sk-estimator-doc-link:hover {\n",
       "  /* unfitted */\n",
       "  background-color: var(--sklearn-color-unfitted-level-3);\n",
       "  color: var(--sklearn-color-background);\n",
       "  text-decoration: none;\n",
       "}\n",
       "\n",
       "div.sk-estimator.fitted:hover .sk-estimator-doc-link.fitted:hover,\n",
       ".sk-estimator-doc-link.fitted:hover,\n",
       "div.sk-label-container:hover .sk-estimator-doc-link.fitted:hover,\n",
       ".sk-estimator-doc-link.fitted:hover {\n",
       "  /* fitted */\n",
       "  background-color: var(--sklearn-color-fitted-level-3);\n",
       "  color: var(--sklearn-color-background);\n",
       "  text-decoration: none;\n",
       "}\n",
       "\n",
       "/* Span, style for the box shown on hovering the info icon */\n",
       ".sk-estimator-doc-link span {\n",
       "  display: none;\n",
       "  z-index: 9999;\n",
       "  position: relative;\n",
       "  font-weight: normal;\n",
       "  right: .2ex;\n",
       "  padding: .5ex;\n",
       "  margin: .5ex;\n",
       "  width: min-content;\n",
       "  min-width: 20ex;\n",
       "  max-width: 50ex;\n",
       "  color: var(--sklearn-color-text);\n",
       "  box-shadow: 2pt 2pt 4pt #999;\n",
       "  /* unfitted */\n",
       "  background: var(--sklearn-color-unfitted-level-0);\n",
       "  border: .5pt solid var(--sklearn-color-unfitted-level-3);\n",
       "}\n",
       "\n",
       ".sk-estimator-doc-link.fitted span {\n",
       "  /* fitted */\n",
       "  background: var(--sklearn-color-fitted-level-0);\n",
       "  border: var(--sklearn-color-fitted-level-3);\n",
       "}\n",
       "\n",
       ".sk-estimator-doc-link:hover span {\n",
       "  display: block;\n",
       "}\n",
       "\n",
       "/* \"?\"-specific style due to the `<a>` HTML tag */\n",
       "\n",
       "#sk-container-id-9 a.estimator_doc_link {\n",
       "  float: right;\n",
       "  font-size: 1rem;\n",
       "  line-height: 1em;\n",
       "  font-family: monospace;\n",
       "  background-color: var(--sklearn-color-background);\n",
       "  border-radius: 1rem;\n",
       "  height: 1rem;\n",
       "  width: 1rem;\n",
       "  text-decoration: none;\n",
       "  /* unfitted */\n",
       "  color: var(--sklearn-color-unfitted-level-1);\n",
       "  border: var(--sklearn-color-unfitted-level-1) 1pt solid;\n",
       "}\n",
       "\n",
       "#sk-container-id-9 a.estimator_doc_link.fitted {\n",
       "  /* fitted */\n",
       "  border: var(--sklearn-color-fitted-level-1) 1pt solid;\n",
       "  color: var(--sklearn-color-fitted-level-1);\n",
       "}\n",
       "\n",
       "/* On hover */\n",
       "#sk-container-id-9 a.estimator_doc_link:hover {\n",
       "  /* unfitted */\n",
       "  background-color: var(--sklearn-color-unfitted-level-3);\n",
       "  color: var(--sklearn-color-background);\n",
       "  text-decoration: none;\n",
       "}\n",
       "\n",
       "#sk-container-id-9 a.estimator_doc_link.fitted:hover {\n",
       "  /* fitted */\n",
       "  background-color: var(--sklearn-color-fitted-level-3);\n",
       "}\n",
       "</style><div id=\"sk-container-id-9\" class=\"sk-top-container\"><div class=\"sk-text-repr-fallback\"><pre>MLPClassifier(alpha=0.0002, batch_size=32, early_stopping=True,\n",
       "              hidden_layer_sizes=(100, 50, 25), learning_rate_init=2e-05,\n",
       "              max_iter=500, n_iter_no_change=50)</pre><b>In a Jupyter environment, please rerun this cell to show the HTML representation or trust the notebook. <br />On GitHub, the HTML representation is unable to render, please try loading this page with nbviewer.org.</b></div><div class=\"sk-container\" hidden><div class=\"sk-item\"><div class=\"sk-estimator fitted sk-toggleable\"><input class=\"sk-toggleable__control sk-hidden--visually\" id=\"sk-estimator-id-9\" type=\"checkbox\" checked><label for=\"sk-estimator-id-9\" class=\"sk-toggleable__label fitted sk-toggleable__label-arrow\"><div><div>MLPClassifier</div></div><div><a class=\"sk-estimator-doc-link fitted\" rel=\"noreferrer\" target=\"_blank\" href=\"https://scikit-learn.org/1.6/modules/generated/sklearn.neural_network.MLPClassifier.html\">?<span>Documentation for MLPClassifier</span></a><span class=\"sk-estimator-doc-link fitted\">i<span>Fitted</span></span></div></label><div class=\"sk-toggleable__content fitted\"><pre>MLPClassifier(alpha=0.0002, batch_size=32, early_stopping=True,\n",
       "              hidden_layer_sizes=(100, 50, 25), learning_rate_init=2e-05,\n",
       "              max_iter=500, n_iter_no_change=50)</pre></div> </div></div></div></div>"
      ],
      "text/plain": [
       "MLPClassifier(alpha=0.0002, batch_size=32, early_stopping=True,\n",
       "              hidden_layer_sizes=(100, 50, 25), learning_rate_init=2e-05,\n",
       "              max_iter=500, n_iter_no_change=50)"
      ]
     },
     "execution_count": 94,
     "metadata": {},
     "output_type": "execute_result"
    }
   ],
   "source": [
    "# Create and train the neural network\n",
    "mlp = MLPClassifier(\n",
    "    hidden_layer_sizes=(100, 50, 25),\n",
    "    activation='relu',\n",
    "    batch_size=32,\n",
    "    alpha=.0002,\n",
    "    learning_rate_init=0.00002,\n",
    "    early_stopping=True,\n",
    "    n_iter_no_change=50,\n",
    "    max_iter=500)\n",
    "\n",
    "# Train the model\n",
    "mlp.fit(X_train_scaled, y_train_encoded)"
   ]
  },
  {
   "cell_type": "markdown",
   "metadata": {},
   "source": [
    "Let's graph our loss and validation loss curves. Ideally, both should constantly decrease before leveling out."
   ]
  },
  {
   "cell_type": "code",
   "execution_count": 95,
   "metadata": {},
   "outputs": [
    {
     "data": {
      "image/png": "[encoded data removed]",
      "text/plain": [
       "<Figure size 640x480 with 1 Axes>"
      ]
     },
     "metadata": {},
     "output_type": "display_data"
    },
    {
     "data": {
      "image/png": "[encoded data removed]",
      "text/plain": [
       "<Figure size 640x480 with 1 Axes>"
      ]
     },
     "metadata": {},
     "output_type": "display_data"
    }
   ],
   "source": [
    "# Plot the loss curve\n",
    "plt.plot(mlp.loss_curve_)\n",
    "plt.title('Training Loss Curve')\n",
    "plt.xlabel('Epochs')\n",
    "plt.ylabel('Loss')\n",
    "plt.show()\n",
    "\n",
    "# Convert validation scores list to a NumPy array\n",
    "val_scores = np.array(mlp.validation_scores_)\n",
    "\n",
    "# Plot validation loss (1 - validation score)\n",
    "plt.plot(1 - val_scores)\n",
    "plt.title('Validation Loss Curve')\n",
    "plt.xlabel('Epochs')\n",
    "plt.ylabel('Validation Loss')\n",
    "plt.show()"
   ]
  },
  {
   "cell_type": "markdown",
   "metadata": {},
   "source": [
    "Those graphs are as good as I can get them, so now let's test our accuracy."
   ]
  },
  {
   "cell_type": "code",
   "execution_count": 96,
   "metadata": {},
   "outputs": [
    {
     "name": "stdout",
     "output_type": "stream",
     "text": [
      "Accuracy: 0.5722433460076045\n"
     ]
    }
   ],
   "source": [
    "# Make predictions\n",
    "y_pred = mlp.predict(X_test_scaled)\n",
    "\n",
    "# Check accuracy\n",
    "print(\"Accuracy:\", accuracy_score(y_test_encoded, y_pred))"
   ]
  },
  {
   "cell_type": "markdown",
   "metadata": {},
   "source": [
    "I'm happy with my model. I tweaked it for hours upon hours and this is the result. Now all that's left is to dump the model."
   ]
  },
  {
   "cell_type": "code",
   "execution_count": 98,
   "metadata": {},
   "outputs": [
    {
     "data": {
      "text/plain": [
       "['pkl_dumps/ufc_fight_predictor.pkl']"
      ]
     },
     "execution_count": 98,
     "metadata": {},
     "output_type": "execute_result"
    }
   ],
   "source": [
    "# Save/dump model\n",
    "joblib.dump(mlp, \"pkl_dumps/ufc_fight_predictor.pkl\")"
   ]
  },
  {
   "cell_type": "markdown",
   "metadata": {},
   "source": [
    "#### Conclusion\n",
    "\n",
    "For my first ever neural network project, I think this went pretty well! UFC is a very unpredictable sport, where anything can happen and upsets are common. In the future, I think I'll go for datasets with more predictable targets. For now though, I'm satisfied with what I've accomplished and look forward to using this model to predict future UFC fights."
   ]
  }
 ],
 "metadata": {
  "kernelspec": {
   "display_name": "Python 3",
   "language": "python",
   "name": "python3"
  },
  "language_info": {
   "codemirror_mode": {
    "name": "ipython",
    "version": 3
   },
   "file_extension": ".py",
   "mimetype": "text/x-python",
   "name": "python",
   "nbconvert_exporter": "python",
   "pygments_lexer": "ipython3",
   "version": "3.11.9"
  }
 },
 "nbformat": 4,
 "nbformat_minor": 2
}
